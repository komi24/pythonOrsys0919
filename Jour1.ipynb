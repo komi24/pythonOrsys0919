{
 "cells": [
  {
   "cell_type": "code",
   "execution_count": 7,
   "metadata": {},
   "outputs": [
    {
     "name": "stdout",
     "output_type": "stream",
     "text": [
      "<class 'int'>\n"
     ]
    }
   ],
   "source": [
    "a = 2\n",
    "print(type(a))"
   ]
  },
  {
   "cell_type": "code",
   "execution_count": 8,
   "metadata": {},
   "outputs": [
    {
     "name": "stdout",
     "output_type": "stream",
     "text": [
      "4\n"
     ]
    }
   ],
   "source": [
    "print(a+2)"
   ]
  },
  {
   "cell_type": "code",
   "execution_count": 5,
   "metadata": {},
   "outputs": [
    {
     "name": "stdout",
     "output_type": "stream",
     "text": [
      "<class 'str'>\n"
     ]
    }
   ],
   "source": [
    "a = \"bonjour\"\n",
    "print(type(a))"
   ]
  },
  {
   "cell_type": "code",
   "execution_count": 13,
   "metadata": {},
   "outputs": [
    {
     "name": "stdout",
     "output_type": "stream",
     "text": [
      "J'ai 32 ans\n",
      "J'ai 32 ans\n",
      "J'ai 32 ans\n"
     ]
    }
   ],
   "source": [
    "age = 32\n",
    "print(\"J'ai \" + str(age) + \" ans\")\n",
    "print(\"J'ai %d ans\"%(age))\n",
    "print(f\"J'ai {age} ans\") # Ne fonctionne que sur la version 3"
   ]
  },
  {
   "cell_type": "code",
   "execution_count": 22,
   "metadata": {},
   "outputs": [
    {
     "name": "stdout",
     "output_type": "stream",
     "text": [
      "<class 'bool'>\n",
      "False\n"
     ]
    }
   ],
   "source": [
    "a = 32\n",
    "\n",
    "print(type(a))\n",
    "print(a)"
   ]
  },
  {
   "cell_type": "code",
   "execution_count": 27,
   "metadata": {},
   "outputs": [
    {
     "name": "stdout",
     "output_type": "stream",
     "text": [
      "BOLNET\n",
      "None\n",
      "Dupont\n"
     ]
    }
   ],
   "source": [
    "dic = {\n",
    "    \"nom\": \"BOLNET\",\n",
    "    \"prenom\": \"Mickael\",\n",
    "    \"age\": 32,\n",
    "    True: None\n",
    "}\n",
    "print(dic[\"nom\"])\n",
    "print(dic[True])\n",
    "dic[\"nom\"] = \"Dupont\"\n",
    "print(dic[\"nom\"])"
   ]
  },
  {
   "cell_type": "code",
   "execution_count": 35,
   "metadata": {},
   "outputs": [
    {
     "name": "stdout",
     "output_type": "stream",
     "text": [
      "2\n",
      "True\n",
      "4\n",
      "True\n",
      "(2, 4, 6, 'Toto', True, 4)\n"
     ]
    }
   ],
   "source": [
    "liste = [2,4,6, \"Toto\", True]\n",
    "b = liste\n",
    "print(liste[0])\n",
    "print(liste[-1])\n",
    "liste = liste + [4]\n",
    "print(liste[-1])\n",
    "print(b[-1])\n",
    "\n",
    "mon_tuple = (2,4,6, \"Toto\", True)\n",
    "#mon_tuple[0] = 15\n",
    "mon_tuple = mon_tuple + (4,)\n",
    "print(mon_tuple)"
   ]
  },
  {
   "cell_type": "code",
   "execution_count": 39,
   "metadata": {},
   "outputs": [
    {
     "name": "stdout",
     "output_type": "stream",
     "text": [
      "[4, 6, 2]\n",
      "[4, 6, 2]\n",
      "[True, None, [4, 1, 3]]\n",
      "[6, 2, True]\n",
      "[6, True]\n",
      "[6, 2, True]\n",
      "[[4, 1, 3], None, True, 2, 6, 4]\n"
     ]
    }
   ],
   "source": [
    "liste = [4,6,2,True, None, [4,1,3]]\n",
    "print(liste[0:3])\n",
    "print(liste[:3])\n",
    "print(liste[3:])\n",
    "print(liste[1:4])\n",
    "print(liste[1:5:2])\n",
    "print(liste[1:-2])\n",
    "print(liste[::-1])\n"
   ]
  },
  {
   "cell_type": "code",
   "execution_count": 40,
   "metadata": {},
   "outputs": [
    {
     "name": "stdout",
     "output_type": "stream",
     "text": [
      "[6, 2, True, None, [4, 1, 3]]\n",
      "[4, 6, 2, True, None]\n",
      "[4, 2, None]\n",
      "[None, True, 2, 6]\n"
     ]
    }
   ],
   "source": [
    "# Du 2e au 6e\n",
    "# Du 1er à l'avant dernier\n",
    "# Un élément sur deux\n",
    "# De l'avant dernier au deuxieme (sens inverse)\n",
    "print(liste[1:7])\n",
    "print(liste[:-1])\n",
    "print(liste[::2])\n",
    "print(liste[-2:0:-1])"
   ]
  },
  {
   "cell_type": "code",
   "execution_count": 41,
   "metadata": {},
   "outputs": [
    {
     "name": "stdout",
     "output_type": "stream",
     "text": [
      "[0, 0, 0, 0, 0, 0, 0, 0, 0, 0, 0, 0, 0, 0, 0, 0, 0, 0, 0, 0, 0, 0, 0, 0, 0, 0, 0, 0, 0, 0, 0, 0, 0, 0, 0, 0, 0, 0, 0, 0, 0, 0, 0, 0, 0, 0, 0, 0, 0, 0, 0, 0, 0, 0, 0, 0, 0, 0, 0, 0, 0, 0, 0, 0, 0, 0, 0, 0, 0, 0, 0, 0, 0, 0, 0, 0, 0, 0, 0, 0, 0, 0, 0, 0, 0, 0, 0, 0, 0, 0, 0, 0, 0, 0, 0, 0, 0, 0, 0, 0]\n"
     ]
    }
   ],
   "source": [
    "liste = [0]*100\n",
    "print(liste)"
   ]
  },
  {
   "cell_type": "code",
   "execution_count": 46,
   "metadata": {},
   "outputs": [
    {
     "name": "stdout",
     "output_type": "stream",
     "text": [
      "[2, 6, 10, 14, 18, 22, 26, 30, 34, 38, 42, 46, 50, 54, 58, 62, 66, 70, 74, 78, 82, 86, 90, 94, 98]\n"
     ]
    }
   ],
   "source": [
    "liste = list(range(2,100, 4))\n",
    "print(liste)"
   ]
  },
  {
   "cell_type": "code",
   "execution_count": 47,
   "metadata": {},
   "outputs": [
    {
     "name": "stdout",
     "output_type": "stream",
     "text": [
      "3\n",
      "2\n",
      "6\n",
      "8\n",
      "1\n"
     ]
    }
   ],
   "source": [
    "for i in [3,2,6,8,1]:\n",
    "    print(i)"
   ]
  },
  {
   "cell_type": "code",
   "execution_count": 49,
   "metadata": {},
   "outputs": [
    {
     "name": "stdout",
     "output_type": "stream",
     "text": [
      "3\n",
      "8\n",
      "36\n",
      "28\n",
      "40\n"
     ]
    }
   ],
   "source": [
    "liste_1 = [3,2,6,4,8]\n",
    "liste_2 = [1,4,6,7,5]\n",
    "\n",
    "for i in range(len(liste_1)):\n",
    "    print(liste_1[i] * liste_2[i])\n",
    "    "
   ]
  },
  {
   "cell_type": "code",
   "execution_count": 50,
   "metadata": {},
   "outputs": [
    {
     "name": "stdout",
     "output_type": "stream",
     "text": [
      "pas ok\n"
     ]
    }
   ],
   "source": [
    "a= 2\n",
    "if a == 1:\n",
    "    print(\"ok\")\n",
    "elif a > 18:\n",
    "    print(\"vraiment ok\")\n",
    "else:\n",
    "    print(\"pas ok\")\n",
    "    \n",
    "# Afficher la somme des éléments d'une liste\n",
    "\n",
    "# Trouver plus grand élément d'une liste\n",
    "\n",
    "# Afficher les nombres paires dans une liste\n"
   ]
  },
  {
   "cell_type": "markdown",
   "metadata": {},
   "source": [
    "## FizzBuzz\n",
    "\n",
    "Pour les entiers de 0 à 100\n",
    "* Afficher fizz quand ils sont multiples de 3\n",
    "* Afficher buzz quand ils sont multiples de 5\n",
    "* Afficher bazz quand ils sont multiples de 3 et 5\n",
    "* Sinon afficher le nombre\n"
   ]
  },
  {
   "cell_type": "code",
   "execution_count": 51,
   "metadata": {},
   "outputs": [
    {
     "name": "stdout",
     "output_type": "stream",
     "text": [
      "2\n"
     ]
    }
   ],
   "source": [
    "while a < 2:\n",
    "    pass\n",
    "\n",
    "print(range(5)[2])"
   ]
  },
  {
   "cell_type": "code",
   "execution_count": 61,
   "metadata": {},
   "outputs": [
    {
     "name": "stdout",
     "output_type": "stream",
     "text": [
      "[0, 1, 2, 5, 7, 12]\n"
     ]
    }
   ],
   "source": [
    "liste = [2,1,5,7,12,0]\n",
    "\n",
    "for j in range(len(liste)-1):\n",
    "    for i in range(len(liste)-1):\n",
    "        if liste[i] > liste[i+1]:\n",
    "            liste[i],liste[i+1] = liste[i+1],liste[i]\n",
    "print(liste)"
   ]
  },
  {
   "cell_type": "code",
   "execution_count": 53,
   "metadata": {},
   "outputs": [],
   "source": [
    "age = 4\n",
    "\n",
    "# affectation multiple\n",
    "a, b = 2, 6\n",
    "\n",
    "# Affectation conditionnelle\n",
    "majorite = 'majeur' if age > 18 else 'mineur'\n",
    "\n",
    "# comprehensive liste\n",
    "liste_double = [i*2 for i in liste] # Double tous les éléments de liste\n",
    "liste_paire_double = [i*2 for i in liste if i % 2 == 0] # Double tous les éléments paires de liste\n"
   ]
  },
  {
   "cell_type": "code",
   "execution_count": 69,
   "metadata": {},
   "outputs": [
    {
     "name": "stdout",
     "output_type": "stream",
     "text": [
      "8.5\n"
     ]
    }
   ],
   "source": [
    "import numpy as np\n",
    "\n",
    "liste_personnes = [\n",
    "  {'lng': 'FR', 'nom': 'Dupont', 'age': 34},\n",
    "  {'lng': 'EN', 'nom': 'Durand', 'age': 14},\n",
    "  {'lng': 'FR', 'nom': 'Dumont', 'age': 24},\n",
    "  {'lng': 'PT', 'nom': 'Ducon', 'age': 3},\n",
    "  {'lng': 'PT', 'nom': 'Fu', 'age': 44},\n",
    "  {'lng': 'FR', 'nom': 'Bukwa', 'age': 52},\n",
    "  {'lng': 'EN', 'nom': 'Pichon', 'age': 23},\n",
    "  {'lng': 'EN', 'nom': 'Bolnet', 'age': 34},\n",
    "]\n",
    "\n",
    "liste_ages = [pers['age'] for pers in liste_personnes]\n",
    "age_moyen = np.array([pers['age'] for pers in liste_personnes if pers['age'] < 18]).mean() \n",
    "print(age_moyen)"
   ]
  },
  {
   "cell_type": "code",
   "execution_count": 55,
   "metadata": {},
   "outputs": [
    {
     "data": {
      "text/plain": [
       "[34, 14, 24, 38, 44, 52, 23, 34]"
      ]
     },
     "execution_count": 55,
     "metadata": {},
     "output_type": "execute_result"
    }
   ],
   "source": [
    "liste_ages"
   ]
  },
  {
   "cell_type": "code",
   "execution_count": 66,
   "metadata": {},
   "outputs": [
    {
     "name": "stdout",
     "output_type": "stream",
     "text": [
      "Bonjour Mickael\n"
     ]
    }
   ],
   "source": [
    "def dire_bonjour():\n",
    "    return \"Bonjour\"\n",
    "    \n",
    "print(dire_bonjour() + \" Mickael\")\n"
   ]
  },
  {
   "cell_type": "code",
   "execution_count": 76,
   "metadata": {},
   "outputs": [],
   "source": [
    "def say_hi():\n",
    "    return \"Hello\"\n",
    "\n",
    "def fala_bomdia():\n",
    "    return \"Bom dia\"\n",
    "\n",
    "dico = {\n",
    "    'FR': dire_bonjour,\n",
    "    'EN': say_hi,\n",
    "    'PT': fala_bomdia\n",
    "}\n",
    "\n",
    "liste_personnes = [\n",
    "  {'lng': 'FR', 'nom': 'Dupont', 'age': 34},\n",
    "  {'lng': 'EN', 'nom': 'Durand', 'age': 14},\n",
    "  {'lng': 'FR', 'nom': 'Dumont', 'age': 24},\n",
    "  {'lng': 'PT', 'nom': 'Ducon', 'age': 3},\n",
    "  {'lng': 'PT', 'nom': 'Fu', 'age': 44},\n",
    "  {'lng': 'FR', 'nom': 'Bukwa', 'age': 52},\n",
    "  {'lng': 'EN', 'nom': 'Pichon', 'age': 23},\n",
    "  {'lng': 'EN', 'nom': 'Bolnet', 'age': 34},\n",
    "]\n",
    "\n",
    "# print(dico['FR']())\n",
    "salutations = [dico[pers['lng']]() for pers in liste_personnes]"
   ]
  },
  {
   "cell_type": "code",
   "execution_count": 75,
   "metadata": {},
   "outputs": [
    {
     "name": "stdout",
     "output_type": "stream",
     "text": [
      "['FR', 'EN', 'FR', 'PT', 'PT', 'FR', 'EN', 'EN']\n"
     ]
    }
   ],
   "source": [
    "print(salutations)"
   ]
  },
  {
   "cell_type": "code",
   "execution_count": 83,
   "metadata": {},
   "outputs": [
    {
     "name": "stdout",
     "output_type": "stream",
     "text": [
      "Hello Mickael\n",
      "Hello Mickael\n",
      "Bom dia Mickael\n"
     ]
    }
   ],
   "source": [
    "def say_hi(nom, age=18, lng='EN'):\n",
    "    if lng == 'EN':\n",
    "        return 'Hello ' + nom\n",
    "    if lng == 'FR':\n",
    "        return 'Bonjour ' + nom\n",
    "    if lng == 'PT':\n",
    "        return 'Bom dia ' + nom\n",
    "\n",
    "print(say_hi('Mickael'))\n",
    "print(say_hi('Mickael', 'FR'))\n",
    "print(say_hi('Mickael', lng='PT'))\n",
    "\n",
    "# salutations = [say_hi(pers['lng']) for pers in liste_personnes]"
   ]
  },
  {
   "cell_type": "code",
   "execution_count": 88,
   "metadata": {},
   "outputs": [
    {
     "name": "stdout",
     "output_type": "stream",
     "text": [
      "24\n",
      "Quel est le numéro secret ?1\n",
      "<class 'int'>\n"
     ]
    }
   ],
   "source": [
    "from random import randint\n",
    "\n",
    "# Deviner le secret que l'ordinateru cache\n",
    "# A chaque tour l'oridnateur demande quel est le numéro secret\n",
    "# On entre un nombre\n",
    "# S'il est plus petit l'ordinateur renvoie 'trop petit'\n",
    "# S'il est plus grand l'ordinateur renvoie 'trop grand'\n",
    "# S'il est égal l'ordinateur renvoie 'gagné'\n",
    "\n",
    "secret = randint(0, 100)\n",
    "\n",
    "valeur = int(input(\"Quel est le numéro secret ?\"))\n"
   ]
  },
  {
   "cell_type": "code",
   "execution_count": 1,
   "metadata": {},
   "outputs": [
    {
     "name": "stdout",
     "output_type": "stream",
     "text": [
      "Est ce que c'est 50 ? G/P/EG\n",
      "Est ce que c'est 75 ? G/P/EP\n",
      "Est ce que c'est 62 ? G/P/EE\n",
      "YOUPI\n"
     ]
    }
   ],
   "source": [
    "borne_min = 0\n",
    "borne_max = 100\n",
    "reponse = None\n",
    "\n",
    "while reponse != 'E':\n",
    "    proposition = (borne_min + borne_max) // 2\n",
    "    reponse = input('Est ce que c\\'est %d ? G/P/E'%(proposition))\n",
    "    if reponse == 'G':\n",
    "        borne_min = proposition\n",
    "    elif reponse == 'P':\n",
    "        borne_max = proposition\n",
    "    else:\n",
    "        print('YOUPI')"
   ]
  },
  {
   "cell_type": "code",
   "execution_count": 6,
   "metadata": {},
   "outputs": [],
   "source": [
    "from selenium import webdriver\n",
    "\n",
    "browser = webdriver.Chrome()\n",
    "browser.get('https://leboncoin.fr')\n",
    "\n"
   ]
  },
  {
   "cell_type": "code",
   "execution_count": 7,
   "metadata": {},
   "outputs": [],
   "source": [
    "ile_de_france = browser.find_element_by_css_selector('a[title=\"Ile-de-France\"]')\n",
    "ile_de_france.click()"
   ]
  },
  {
   "cell_type": "code",
   "execution_count": 8,
   "metadata": {},
   "outputs": [],
   "source": [
    "categories = browser.find_element_by_css_selector('span[data-qa-id=\"text-categories-desktop\"]')\n",
    "categories.click()"
   ]
  },
  {
   "cell_type": "code",
   "execution_count": 10,
   "metadata": {},
   "outputs": [],
   "source": [
    "voitures = browser.find_element_by_css_selector('span[data-qa-id=\"text-categories_category_2-desktop\"]')\n",
    "voitures.click()\n",
    "\n"
   ]
  },
  {
   "cell_type": "code",
   "execution_count": 14,
   "metadata": {},
   "outputs": [],
   "source": [
    "prices = browser.find_elements_by_css_selector('span[itemprop=\"priceCurrency\"]')\n"
   ]
  },
  {
   "cell_type": "code",
   "execution_count": 18,
   "metadata": {},
   "outputs": [
    {
     "data": {
      "text/plain": [
       "97724.54285714286"
      ]
     },
     "execution_count": 18,
     "metadata": {},
     "output_type": "execute_result"
    }
   ],
   "source": [
    "import numpy as np\n",
    "# for p in prices:\n",
    "#     print(int(p.text.replace(' ', '').replace('€', '')))\n",
    "list_prices = [int(p.text.replace(' ', '').replace('€', '')) for p in prices]\n",
    "np.array(list_prices).mean()"
   ]
  },
  {
   "cell_type": "markdown",
   "metadata": {},
   "source": [
    "## Les fonctions (suite)"
   ]
  },
  {
   "cell_type": "code",
   "execution_count": 19,
   "metadata": {},
   "outputs": [
    {
     "data": {
      "text/plain": [
       "4"
      ]
     },
     "execution_count": 19,
     "metadata": {},
     "output_type": "execute_result"
    }
   ],
   "source": [
    "#Portée d'une variable\n",
    "a = 2\n",
    "\n",
    "def multiplier(c):\n",
    "    return a * c\n",
    "\n",
    "multiplier(2)"
   ]
  },
  {
   "cell_type": "code",
   "execution_count": 24,
   "metadata": {},
   "outputs": [
    {
     "name": "stdout",
     "output_type": "stream",
     "text": [
      "4\n",
      "2\n"
     ]
    }
   ],
   "source": [
    "a = 2\n",
    "\n",
    "def affichage():\n",
    "    a = 4\n",
    "    print(a)\n",
    "    \n",
    "\n",
    "affichage()\n",
    "print(a)"
   ]
  },
  {
   "cell_type": "code",
   "execution_count": 25,
   "metadata": {},
   "outputs": [
    {
     "ename": "UnboundLocalError",
     "evalue": "local variable 'a' referenced before assignment",
     "output_type": "error",
     "traceback": [
      "\u001b[1;31m---------------------------------------------------------------------------\u001b[0m",
      "\u001b[1;31mUnboundLocalError\u001b[0m                         Traceback (most recent call last)",
      "\u001b[1;32m<ipython-input-25-2e7ed65ca00d>\u001b[0m in \u001b[0;36m<module>\u001b[1;34m\u001b[0m\n\u001b[0;32m      7\u001b[0m \u001b[1;33m\u001b[0m\u001b[0m\n\u001b[0;32m      8\u001b[0m \u001b[1;33m\u001b[0m\u001b[0m\n\u001b[1;32m----> 9\u001b[1;33m \u001b[0maffichage\u001b[0m\u001b[1;33m(\u001b[0m\u001b[1;33m)\u001b[0m\u001b[1;33m\u001b[0m\u001b[1;33m\u001b[0m\u001b[0m\n\u001b[0m\u001b[0;32m     10\u001b[0m \u001b[0mprint\u001b[0m\u001b[1;33m(\u001b[0m\u001b[0ma\u001b[0m\u001b[1;33m)\u001b[0m\u001b[1;33m\u001b[0m\u001b[1;33m\u001b[0m\u001b[0m\n",
      "\u001b[1;32m<ipython-input-25-2e7ed65ca00d>\u001b[0m in \u001b[0;36maffichage\u001b[1;34m()\u001b[0m\n\u001b[0;32m      3\u001b[0m \u001b[1;33m\u001b[0m\u001b[0m\n\u001b[0;32m      4\u001b[0m \u001b[1;32mdef\u001b[0m \u001b[0maffichage\u001b[0m\u001b[1;33m(\u001b[0m\u001b[1;33m)\u001b[0m\u001b[1;33m:\u001b[0m\u001b[1;33m\u001b[0m\u001b[1;33m\u001b[0m\u001b[0m\n\u001b[1;32m----> 5\u001b[1;33m     \u001b[0mprint\u001b[0m\u001b[1;33m(\u001b[0m\u001b[0ma\u001b[0m\u001b[1;33m)\u001b[0m\u001b[1;33m\u001b[0m\u001b[1;33m\u001b[0m\u001b[0m\n\u001b[0m\u001b[0;32m      6\u001b[0m     \u001b[0ma\u001b[0m \u001b[1;33m=\u001b[0m \u001b[1;36m4\u001b[0m\u001b[1;33m\u001b[0m\u001b[1;33m\u001b[0m\u001b[0m\n\u001b[0;32m      7\u001b[0m \u001b[1;33m\u001b[0m\u001b[0m\n",
      "\u001b[1;31mUnboundLocalError\u001b[0m: local variable 'a' referenced before assignment"
     ]
    }
   ],
   "source": [
    "# Point important l'analyse en 2 phases\n",
    "a = 2\n",
    "\n",
    "def affichage():\n",
    "    print(a)\n",
    "    a = 4\n",
    "    \n",
    "\n",
    "affichage()\n",
    "print(a)"
   ]
  },
  {
   "cell_type": "code",
   "execution_count": 29,
   "metadata": {},
   "outputs": [
    {
     "name": "stdout",
     "output_type": "stream",
     "text": [
      "2\n",
      "4\n"
     ]
    }
   ],
   "source": [
    "# Variable globale\n",
    "a = 2\n",
    "\n",
    "def affichage():\n",
    "    global a\n",
    "    print(a)\n",
    "    a = 4\n",
    "    \n",
    "\n",
    "affichage()\n",
    "print(a)"
   ]
  },
  {
   "cell_type": "code",
   "execution_count": 30,
   "metadata": {},
   "outputs": [
    {
     "name": "stdout",
     "output_type": "stream",
     "text": [
      "{'nom': 'Martin'}\n",
      "{'nom': 'Helene'}\n"
     ]
    }
   ],
   "source": [
    "# Variable mutable\n",
    "a = {'nom': 'Martin'}\n",
    "\n",
    "def affichage():\n",
    "    print(a)\n",
    "    a['nom'] = 'Helene'\n",
    "    \n",
    "\n",
    "affichage()\n",
    "print(a)"
   ]
  },
  {
   "cell_type": "code",
   "execution_count": 34,
   "metadata": {},
   "outputs": [
    {
     "name": "stdout",
     "output_type": "stream",
     "text": [
      "[1, 4, 6]\n",
      "[55, 4, 6]\n"
     ]
    }
   ],
   "source": [
    "# Tuple vs List\n",
    "a = [1,4,6]\n",
    "#a = (1,4,6)\n",
    "\n",
    "\n",
    "def affichage(liste):\n",
    "    print(liste)\n",
    "    liste[0]=55\n",
    "    \n",
    "\n",
    "affichage(a)\n",
    "print(a)"
   ]
  },
  {
   "cell_type": "code",
   "execution_count": 36,
   "metadata": {},
   "outputs": [
    {
     "data": {
      "text/plain": [
       "[1, 3, 5, 7, 13, 32, 64]"
      ]
     },
     "execution_count": 36,
     "metadata": {},
     "output_type": "execute_result"
    }
   ],
   "source": [
    "def fusion(arr1, arr2):\n",
    "    arr = []\n",
    "    i = 0\n",
    "    j = 0\n",
    "    while i < len(arr1) and j < len(arr2):\n",
    "        if arr1[i] < arr2[j]:\n",
    "            arr.append(arr1[i])\n",
    "            i += 1\n",
    "        else:\n",
    "            arr.append(arr2[j])\n",
    "            j += 1\n",
    "    arr += arr1[i:]\n",
    "    arr += arr2[j:]\n",
    "    return arr\n",
    "\n",
    "fusion([1,6,9], [2,3,7])\n",
    "\n",
    "def tri_fusion(arr):\n",
    "    if len(arr) < 2:\n",
    "        return arr\n",
    "    elif len(arr) == 2:\n",
    "        return arr if arr[0] < arr[1] else arr[::-1]\n",
    "    else:\n",
    "        return fusion(tri_fusion(arr[:len(arr)//2]), tri_fusion(arr[len(arr)//2:]))\n",
    "    \n",
    "tri_fusion([3,1,7,5,13,64,32])"
   ]
  },
  {
   "cell_type": "code",
   "execution_count": null,
   "metadata": {},
   "outputs": [],
   "source": []
  }
 ],
 "metadata": {
  "kernelspec": {
   "display_name": "Python 3",
   "language": "python",
   "name": "python3"
  },
  "language_info": {
   "codemirror_mode": {
    "name": "ipython",
    "version": 3
   },
   "file_extension": ".py",
   "mimetype": "text/x-python",
   "name": "python",
   "nbconvert_exporter": "python",
   "pygments_lexer": "ipython3",
   "version": "3.7.3"
  }
 },
 "nbformat": 4,
 "nbformat_minor": 2
}
