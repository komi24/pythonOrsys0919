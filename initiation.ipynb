{
 "cells": [
  {
   "cell_type": "code",
   "execution_count": 1,
   "metadata": {},
   "outputs": [
    {
     "name": "stdout",
     "output_type": "stream",
     "text": [
      "Hello world !\n"
     ]
    }
   ],
   "source": [
    "print(\"Hello world !\")"
   ]
  },
  {
   "cell_type": "code",
   "execution_count": 2,
   "metadata": {},
   "outputs": [
    {
     "name": "stdout",
     "output_type": "stream",
     "text": [
      "8\n"
     ]
    }
   ],
   "source": [
    "print(4 + 4)"
   ]
  },
  {
   "cell_type": "code",
   "execution_count": 5,
   "metadata": {},
   "outputs": [
    {
     "name": "stdout",
     "output_type": "stream",
     "text": [
      "33\n"
     ]
    }
   ],
   "source": [
    "prenom = \"Mickael\"\n",
    "age = 32\n",
    "print(age + 1)"
   ]
  },
  {
   "cell_type": "code",
   "execution_count": 7,
   "metadata": {},
   "outputs": [
    {
     "name": "stdout",
     "output_type": "stream",
     "text": [
      "prenom\n",
      "Mickael\n"
     ]
    }
   ],
   "source": [
    "print(\"prenom\")\n",
    "print(prenom)"
   ]
  },
  {
   "cell_type": "code",
   "execution_count": 16,
   "metadata": {},
   "outputs": [
    {
     "data": {
      "text/plain": [
       "list"
      ]
     },
     "execution_count": 16,
     "metadata": {},
     "output_type": "execute_result"
    }
   ],
   "source": [
    "type([1,2,8,7])"
   ]
  },
  {
   "cell_type": "code",
   "execution_count": 13,
   "metadata": {},
   "outputs": [
    {
     "name": "stdout",
     "output_type": "stream",
     "text": [
      "Bonjour Mickael\n"
     ]
    }
   ],
   "source": [
    "print(\"Bonjour \" + prenom)"
   ]
  },
  {
   "cell_type": "code",
   "execution_count": 17,
   "metadata": {},
   "outputs": [],
   "source": [
    "ma_liste = [4,8,6,7]"
   ]
  },
  {
   "cell_type": "code",
   "execution_count": 19,
   "metadata": {},
   "outputs": [
    {
     "name": "stdout",
     "output_type": "stream",
     "text": [
      "8\n"
     ]
    }
   ],
   "source": [
    "print(ma_liste[1])"
   ]
  },
  {
   "cell_type": "code",
   "execution_count": 20,
   "metadata": {},
   "outputs": [
    {
     "data": {
      "text/plain": [
       "25"
      ]
     },
     "execution_count": 20,
     "metadata": {},
     "output_type": "execute_result"
    }
   ],
   "source": [
    "sum(ma_liste)"
   ]
  },
  {
   "cell_type": "code",
   "execution_count": 21,
   "metadata": {},
   "outputs": [
    {
     "data": {
      "text/plain": [
       "4"
      ]
     },
     "execution_count": 21,
     "metadata": {},
     "output_type": "execute_result"
    }
   ],
   "source": [
    "len(ma_liste)"
   ]
  },
  {
   "cell_type": "code",
   "execution_count": 26,
   "metadata": {},
   "outputs": [
    {
     "name": "stdout",
     "output_type": "stream",
     "text": [
      "7\n"
     ]
    }
   ],
   "source": [
    "print( sum(ma_liste) // len(ma_liste) )"
   ]
  },
  {
   "cell_type": "code",
   "execution_count": 23,
   "metadata": {},
   "outputs": [],
   "source": [
    "ma_liste.append(12)"
   ]
  },
  {
   "cell_type": "code",
   "execution_count": 24,
   "metadata": {},
   "outputs": [
    {
     "name": "stdout",
     "output_type": "stream",
     "text": [
      "[4, 8, 6, 7, 12]\n"
     ]
    }
   ],
   "source": [
    "print(ma_liste)"
   ]
  },
  {
   "cell_type": "code",
   "execution_count": 25,
   "metadata": {},
   "outputs": [
    {
     "name": "stdout",
     "output_type": "stream",
     "text": [
      "7.4\n"
     ]
    }
   ],
   "source": [
    "print( sum(ma_liste) / len(ma_liste) )"
   ]
  },
  {
   "cell_type": "code",
   "execution_count": 29,
   "metadata": {},
   "outputs": [
    {
     "data": {
      "text/plain": [
       "int"
      ]
     },
     "execution_count": 29,
     "metadata": {},
     "output_type": "execute_result"
    }
   ],
   "source": [
    "type( 4//3 )"
   ]
  },
  {
   "cell_type": "code",
   "execution_count": 33,
   "metadata": {},
   "outputs": [
    {
     "name": "stdout",
     "output_type": "stream",
     "text": [
      "[4, 8, 6, 7, 12, [4, 8, 2], 4, 8, 2]\n"
     ]
    }
   ],
   "source": [
    "ma_liste.extend([4,8,2])\n",
    "print(ma_liste)"
   ]
  },
  {
   "cell_type": "code",
   "execution_count": 35,
   "metadata": {},
   "outputs": [
    {
     "data": {
      "text/plain": [
       "8"
      ]
     },
     "execution_count": 35,
     "metadata": {},
     "output_type": "execute_result"
    }
   ],
   "source": [
    "ma_liste[5][1]"
   ]
  },
  {
   "cell_type": "code",
   "execution_count": 53,
   "metadata": {},
   "outputs": [],
   "source": [
    "personne = {\"prenom\": \"Mickael\", \"nom\": \"Bolnet\", \"age\": 32}\n",
    "personne2 = {\"prenom\": \"Virginie\", \"nom\": \"Dubois\", \"age\": 38}\n",
    "personne3 = {\"prenom\": \"Alain\", \"nom\": \"Durand\", \"age\": 8}\n",
    "personne[\"prenom\"]\n",
    "liste_personnes = [personne, personne2, personne3]"
   ]
  },
  {
   "cell_type": "code",
   "execution_count": 39,
   "metadata": {},
   "outputs": [
    {
     "data": {
      "text/plain": [
       "{'prenom': 'Virginie', 'nom': 'Dubois', 'age': 38}"
      ]
     },
     "execution_count": 39,
     "metadata": {},
     "output_type": "execute_result"
    }
   ],
   "source": [
    "liste_personnes[1]"
   ]
  },
  {
   "cell_type": "code",
   "execution_count": 43,
   "metadata": {},
   "outputs": [],
   "source": [
    "somme = liste_personnes[0][\"age\"] + liste_personnes[1][\"age\"] + liste_personnes[2][\"age\"]"
   ]
  },
  {
   "cell_type": "code",
   "execution_count": 45,
   "metadata": {},
   "outputs": [
    {
     "name": "stdout",
     "output_type": "stream",
     "text": [
      "32.666666666666664\n"
     ]
    }
   ],
   "source": [
    "print(somme / len(liste_personnes))"
   ]
  },
  {
   "cell_type": "code",
   "execution_count": 46,
   "metadata": {},
   "outputs": [
    {
     "name": "stdout",
     "output_type": "stream",
     "text": [
      "Hola\n"
     ]
    }
   ],
   "source": [
    "# Liste et dictionnaire quelconques\n",
    "\n",
    "ma_liste = [True, 4, \"Hello\"]\n",
    "mon_dico = {4: \"Bonjour\", True: [2, 8, \"Hola\"]}\n",
    "\n",
    "print(mon_dico[True][2])"
   ]
  },
  {
   "cell_type": "markdown",
   "metadata": {},
   "source": [
    "# Les boucles"
   ]
  },
  {
   "cell_type": "code",
   "execution_count": 49,
   "metadata": {},
   "outputs": [
    {
     "name": "stdout",
     "output_type": "stream",
     "text": [
      "28\n",
      "Bonjour\n",
      "36\n",
      "Bonjour\n",
      "84\n",
      "Bonjour\n",
      "Aurevoir\n"
     ]
    }
   ],
   "source": [
    "for age in [28, 36, 84]:\n",
    "    print(age)\n",
    "    print(\"Bonjour\")\n",
    "print(\"Aurevoir\")"
   ]
  },
  {
   "cell_type": "code",
   "execution_count": 50,
   "metadata": {},
   "outputs": [
    {
     "name": "stdout",
     "output_type": "stream",
     "text": [
      "98\n"
     ]
    }
   ],
   "source": [
    "somme = 0\n",
    "for pers in liste_personnes:\n",
    "    somme = somme + pers[\"age\"]\n",
    "\n",
    "print(somme)"
   ]
  },
  {
   "cell_type": "code",
   "execution_count": 52,
   "metadata": {},
   "outputs": [
    {
     "name": "stdout",
     "output_type": "stream",
     "text": [
      "Bonjour Mickael\n",
      "Bonjour Virginie\n",
      "Bonjour Alain\n"
     ]
    }
   ],
   "source": [
    "for pers in liste_personnes:\n",
    "    print(\"Bonjour \" + pers[\"prenom\"])"
   ]
  },
  {
   "cell_type": "code",
   "execution_count": 54,
   "metadata": {},
   "outputs": [
    {
     "data": {
      "text/plain": [
       "[{'prenom': 'Mickael', 'nom': 'Bolnet', 'age': 32},\n",
       " {'prenom': 'Virginie', 'nom': 'Dubois', 'age': 38},\n",
       " {'prenom': 'Alain', 'nom': 'Durand', 'age': 8}]"
      ]
     },
     "execution_count": 54,
     "metadata": {},
     "output_type": "execute_result"
    }
   ],
   "source": [
    "liste_personnes"
   ]
  },
  {
   "cell_type": "code",
   "execution_count": 56,
   "metadata": {},
   "outputs": [
    {
     "name": "stdout",
     "output_type": "stream",
     "text": [
      "Mickael Majeur\n",
      "Virginie Majeur\n",
      "Alain Mineur\n"
     ]
    }
   ],
   "source": [
    "age = 16\n",
    "\n",
    "for pers in liste_personnes:\n",
    "    if pers[\"age\"] > 18:\n",
    "        print(pers[\"prenom\"] + \" Majeur\")\n",
    "    else:\n",
    "        print(pers[\"prenom\"] + \" Mineur\")\n"
   ]
  },
  {
   "cell_type": "code",
   "execution_count": 59,
   "metadata": {},
   "outputs": [],
   "source": [
    "liste_personnes.append({\"prenom\": \"Gérard\", \"nom\":\"Dupont\", \"age\": 15})"
   ]
  },
  {
   "cell_type": "code",
   "execution_count": 60,
   "metadata": {},
   "outputs": [
    {
     "name": "stdout",
     "output_type": "stream",
     "text": [
      "Trouvé\n"
     ]
    }
   ],
   "source": [
    "for pers in liste_personnes:\n",
    "    if pers[\"prenom\"] == \"Gérard\":\n",
    "        print(\"Trouvé\")"
   ]
  },
  {
   "cell_type": "code",
   "execution_count": 61,
   "metadata": {},
   "outputs": [
    {
     "name": "stdout",
     "output_type": "stream",
     "text": [
      "[{'prenom': 'Mickael', 'nom': 'Bolnet', 'age': 32}, {'prenom': 'Virginie', 'nom': 'Dubois', 'age': 38}, {'prenom': 'Alain', 'nom': 'Durand', 'age': 8}, {'prenom': 'Gérard', 'nom': 'Dupont', 'age': 15}]\n"
     ]
    }
   ],
   "source": [
    "print(liste_personnes)"
   ]
  },
  {
   "cell_type": "code",
   "execution_count": 70,
   "metadata": {},
   "outputs": [
    {
     "name": "stdout",
     "output_type": "stream",
     "text": [
      "['Mickael', 'Virginie']\n"
     ]
    }
   ],
   "source": [
    "# Comprehensive list\n",
    "print([pers[\"prenom\"] for pers in liste_personnes if pers[\"age\"] > 18])"
   ]
  },
  {
   "cell_type": "markdown",
   "metadata": {},
   "source": [
    "# Slicing sur les listes"
   ]
  },
  {
   "cell_type": "code",
   "execution_count": 80,
   "metadata": {},
   "outputs": [
    {
     "name": "stdout",
     "output_type": "stream",
     "text": [
      "[4, 8, 2, 7]\n",
      "[8, 2, 7]\n",
      "[7, 6]\n",
      "[4, 8, 2, 7]\n",
      "[4, 2]\n",
      "[6, 7, 2, 8, 4]\n"
     ]
    }
   ],
   "source": [
    "ma_liste = [4,8,2,7,6]\n",
    "\n",
    "print(ma_liste[:4])\n",
    "print(ma_liste[1:4])\n",
    "print(ma_liste[3:])\n",
    "print(ma_liste[:-1])\n",
    "print(ma_liste[0:4:2])\n",
    "print(ma_liste[::-1])\n"
   ]
  },
  {
   "cell_type": "code",
   "execution_count": 81,
   "metadata": {},
   "outputs": [
    {
     "name": "stdout",
     "output_type": "stream",
     "text": [
      "Quel votre nom ?Bolnet\n"
     ]
    }
   ],
   "source": [
    "name = input(\"Quel votre nom ?\")\n",
    "prenom = input(\"Quel votre prenom ?\")\n",
    "age = input(\"Quel votre age ?\")\n",
    "\n",
    "personne = {\"nom\": name, \"prenom\": prenom, \"age\": age}"
   ]
  },
  {
   "cell_type": "code",
   "execution_count": 2,
   "metadata": {},
   "outputs": [
    {
     "name": "stdout",
     "output_type": "stream",
     "text": [
      "Quel est votre nom ?Bo\n",
      "Quel est votre prenom ?Mi\n",
      "Quel est votre age ?32\n",
      "Quel est votre genre ?H\n",
      "Quel est votre nationalité ?Fr\n",
      "{'nom': 'Bo', 'prenom': 'Mi', 'age': '32', 'genre': 'H', 'nationalité': 'Fr'}\n"
     ]
    }
   ],
   "source": [
    "personne = {}\n",
    "for key in [\"nom\", \"prenom\", \"age\", \"genre\", \"nationalité\"]:\n",
    "    value = input(\"Quel est votre \"+key+\" ?\")\n",
    "    if key == \"genre\" and (value != \"H\" and value != \"F\"):\n",
    "        print(\"Error\")\n",
    "    personne[key] = value\n",
    "    \n",
    "print(personne)"
   ]
  },
  {
   "cell_type": "code",
   "execution_count": 10,
   "metadata": {},
   "outputs": [
    {
     "data": {
      "image/png": "[encoded data removed]",
      "text/plain": [
       "<Figure size 432x288 with 1 Axes>"
      ]
     },
     "metadata": {
      "needs_background": "light"
     },
     "output_type": "display_data"
    }
   ],
   "source": [
    "import matplotlib.pyplot as plt\n",
    "\n",
    "personne = {\"prenom\": \"Mickael\", \"nom\": \"Bolnet\", \"age\": 32}\n",
    "personne2 = {\"prenom\": \"Virginie\", \"nom\": \"Dubois\", \"age\": 38}\n",
    "personne3 = {\"prenom\": \"Alain\", \"nom\": \"Durand\", \"age\": 8}\n",
    "personne[\"prenom\"]\n",
    "liste_personnes = [personne, personne2, personne3]\n",
    "\n",
    "plt.plot([p[\"age\"] for p in liste_personnes ], c=\"r\")\n",
    "plt.scatter([3,1,7,6], [15,50,32,18], c=\"g\")\n",
    "plt.show()"
   ]
  },
  {
   "cell_type": "code",
   "execution_count": 15,
   "metadata": {},
   "outputs": [
    {
     "name": "stdout",
     "output_type": "stream",
     "text": [
      "[49.1310638  18.63913099 26.29133713 28.76383653 12.51594697 25.9619255\n",
      " 18.6629486  14.82425118 49.05123854 39.22655564 29.75902318 42.26845111]\n"
     ]
    }
   ],
   "source": [
    "import numpy as np\n",
    "\n",
    "list_age = 10 * np.random.randn(12) + 30\n",
    "print(list_age)"
   ]
  },
  {
   "cell_type": "code",
   "execution_count": null,
   "metadata": {},
   "outputs": [],
   "source": [
    "liste_personnes = []\n",
    "\n",
    "for age in list_age:\n",
    "    liste_personnes.append({\"nom\": \"Durand\", \"prenom\": \"Romain\", \"age\": age})"
   ]
  },
  {
   "cell_type": "code",
   "execution_count": 1,
   "metadata": {},
   "outputs": [
    {
     "name": "stdout",
     "output_type": "stream",
     "text": [
      "Quel votre nom ?Bolnet\n",
      "Quel votre prenom ?Mickael\n",
      "Quel votre age ?34\n",
      "0\n",
      "1\n",
      "2\n",
      "3\n"
     ]
    }
   ],
   "source": [
    "\n",
    "liste = []\n",
    "for i in range(4):\n",
    "    print(i)\n",
    "    name = input(\"Quel votre nom ?\")\n",
    "    prenom = input(\"Quel votre prenom ?\")\n",
    "    age = input(\"Quel votre age ?\")\n",
    "    personne = {\"nom\": name, \"prenom\": prenom, \"age\": age}\n",
    "    liste.append(personne)"
   ]
  },
  {
   "cell_type": "code",
   "execution_count": 2,
   "metadata": {},
   "outputs": [
    {
     "name": "stdout",
     "output_type": "stream",
     "text": [
      "[{'nom': 'Bolnet', 'prenom': 'Mickael', 'age': '34'}, {'nom': 'Bolnet', 'prenom': 'Mickael', 'age': '34'}, {'nom': 'Bolnet', 'prenom': 'Mickael', 'age': '34'}, {'nom': 'Bolnet', 'prenom': 'Mickael', 'age': '34'}]\n"
     ]
    }
   ],
   "source": [
    "print(liste)"
   ]
  },
  {
   "cell_type": "markdown",
   "metadata": {},
   "source": [
    "### Fizz Buzz\n",
    "Afficher \"fizz\" quand on a un multiple de 3, \"buzz\" quand on a un umltiple de 5, sinon on affiche le nombre :\n",
    "\n",
    "1\n",
    "\n",
    "2\n",
    "\n",
    "fizz\n",
    "\n",
    "4\n",
    "\n",
    "buzz\n",
    "\n",
    "fizz\n",
    "\n",
    "7 "
   ]
  },
  {
   "cell_type": "code",
   "execution_count": 4,
   "metadata": {},
   "outputs": [
    {
     "name": "stdout",
     "output_type": "stream",
     "text": [
      "1\n"
     ]
    }
   ],
   "source": [
    "print(7 % 3)"
   ]
  },
  {
   "cell_type": "code",
   "execution_count": null,
   "metadata": {},
   "outputs": [],
   "source": [
    "if i % 3 == 0:\n",
    "    print\n",
    "elif i % 5 == 0:\n",
    "    print\n"
   ]
  },
  {
   "cell_type": "markdown",
   "metadata": {},
   "source": [
    "### Suites\n",
    "\n",
    "init = 12\n",
    "\n",
    "après un tour init = init * 4 + 5\n",
    "\n",
    "Quelle valeur après 16 tours ?"
   ]
  },
  {
   "cell_type": "code",
   "execution_count": 9,
   "metadata": {},
   "outputs": [
    {
     "name": "stdout",
     "output_type": "stream",
     "text": [
      "premier 2\n",
      "premier 3\n",
      "4\n",
      "premier 5\n",
      "6\n",
      "premier 7\n",
      "8\n",
      "9\n",
      "10\n",
      "premier 11\n",
      "12\n",
      "premier 13\n",
      "14\n",
      "15\n",
      "16\n",
      "premier 17\n",
      "18\n",
      "premier 19\n",
      "20\n",
      "21\n",
      "22\n",
      "premier 23\n",
      "24\n",
      "25\n",
      "26\n",
      "27\n",
      "28\n",
      "premier 29\n",
      "30\n",
      "premier 31\n",
      "32\n",
      "33\n",
      "34\n",
      "35\n",
      "36\n",
      "premier 37\n",
      "38\n",
      "39\n",
      "40\n",
      "premier 41\n",
      "42\n",
      "premier 43\n",
      "44\n",
      "45\n",
      "46\n",
      "premier 47\n",
      "48\n",
      "49\n",
      "50\n",
      "51\n",
      "52\n",
      "premier 53\n",
      "54\n",
      "55\n",
      "56\n",
      "57\n",
      "58\n",
      "premier 59\n",
      "60\n",
      "premier 61\n",
      "62\n",
      "63\n",
      "64\n",
      "65\n",
      "66\n",
      "premier 67\n",
      "68\n",
      "69\n",
      "70\n",
      "premier 71\n",
      "72\n",
      "premier 73\n",
      "74\n",
      "75\n",
      "76\n",
      "77\n",
      "78\n",
      "premier 79\n",
      "80\n",
      "81\n",
      "82\n",
      "premier 83\n",
      "84\n",
      "85\n",
      "86\n",
      "87\n",
      "88\n",
      "premier 89\n",
      "90\n",
      "91\n",
      "92\n",
      "93\n",
      "94\n",
      "95\n",
      "96\n",
      "premier 97\n",
      "98\n",
      "99\n",
      "100\n"
     ]
    }
   ],
   "source": [
    "for i in range(2,101):\n",
    "    # On va regarder si il existe un nombre\n",
    "    # entre 2 et i qui divise i\n",
    "    nombre_de_diviseurs = 0\n",
    "    for j in range(2,i):\n",
    "        # Pour chaque entier j inférieur à i\n",
    "        # On regarde si j divise i\n",
    "        if i % j == 0:\n",
    "            # Si c'est le cas on ajoute 1 au nombre de diviseurs\n",
    "            nombre_de_diviseurs = nombre_de_diviseurs + 1\n",
    "    if nombre_de_diviseurs == 0:\n",
    "        print(\"premier\", i)\n",
    "    else:\n",
    "        print(i)\n"
   ]
  },
  {
   "cell_type": "markdown",
   "metadata": {},
   "source": [
    "## Trouver le numéro produit par la machine\n",
    "Notre programme génère un nombre aléatoire entre 0 et 19.\n",
    "L'utilisateur va proposer un nombre et la machine lui dira si\n",
    "c'est plus grand, plus petit ou égal.\n",
    "Le jeu s'arrète quand on tombe sur le bon numéro.\n",
    "\n",
    "* import numpy as np\n",
    " \n",
    "* secret = np.random.randint(20)\n",
    "\n",
    "* Utiliser le mot clé \"break\" pour sortir d'une boucle \"for\"\n",
    "\n",
    "* int(\"24\") => 24 "
   ]
  },
  {
   "cell_type": "markdown",
   "metadata": {},
   "source": [
    "## Laisser la machine deviner notre nombre mystère\n",
    "\n",
    "Nous pensons à un nombre. Le programme nous en propose un.\n",
    "On lui répond G/P/E (trop grand, trop petit ou égal)\n",
    "Il fait de nouvelles propositions jusqu'à ce qu'il trouve le résultat\n"
   ]
  },
  {
   "cell_type": "code",
   "execution_count": 2,
   "metadata": {},
   "outputs": [
    {
     "name": "stdout",
     "output_type": "stream",
     "text": [
      "L'oridnateur propose 10\n",
      "Est-ce trop petit, trop grand ou egal G/P/E ?P\n",
      "L'oridnateur propose 15\n",
      "Est-ce trop petit, trop grand ou egal G/P/E ?G\n",
      "L'oridnateur propose 12\n",
      "Est-ce trop petit, trop grand ou egal G/P/E ?E\n",
      "L'ordinateur a gagné !\n"
     ]
    }
   ],
   "source": [
    "import numpy as np\n",
    "\n",
    "deb = 0\n",
    "fin = 20\n",
    "proposition = (deb + fin) // 2\n",
    "\n",
    "for i in range(20):\n",
    "    # L'ordinateur nous fait une proposition\n",
    "    print(\"L'oridnateur propose \" + str(proposition))\n",
    "    reponse = input(\"Est-ce trop petit, trop grand ou egal G/P/E ?\")\n",
    "    if reponse == \"G\":\n",
    "        fin = (deb + fin) // 2\n",
    "        proposition = (deb + fin) // 2\n",
    "    elif reponse == \"P\":\n",
    "        deb = (deb + fin) // 2\n",
    "        proposition = (deb + fin) // 2\n",
    "    elif reponse == \"E\":\n",
    "        print(\"L'ordinateur a gagné !\")\n",
    "        break\n"
   ]
  },
  {
   "cell_type": "code",
   "execution_count": 5,
   "metadata": {},
   "outputs": [
    {
     "name": "stdout",
     "output_type": "stream",
     "text": [
      "False\n",
      "[3, 5, 7, 2, 1, 5]\n"
     ]
    }
   ],
   "source": [
    "print(2 in [3,4,8])\n",
    "print([3,5,7]+[2,1,5])"
   ]
  },
  {
   "cell_type": "markdown",
   "metadata": {},
   "source": [
    "# Template string\n",
    "\n",
    "Permet d'écrire nos variables à l'intérieur des chaines de caractères"
   ]
  },
  {
   "cell_type": "code",
   "execution_count": 16,
   "metadata": {},
   "outputs": [
    {
     "name": "stdout",
     "output_type": "stream",
     "text": [
      "Il y a 36 élèves\n",
      "Il y a 36 élèves\n",
      "Il y a 36 élèves : 26 filles, 10 garçons\n",
      "Il y a 36 élèves : 26 filles et 10 garçons.\n"
     ]
    }
   ],
   "source": [
    "nombre_eleves = 36\n",
    "nombre_filles = 26\n",
    "nombre_garcons = 10\n",
    "\n",
    "# print(\"Il y a \" + nombre_eleves + \" élèves\") # on doit convertir en str\n",
    "print(\"Il y a \" + str(nombre_eleves) + \" élèves\")\n",
    "print(\"Il y a %d élèves\" % (nombre_eleves)) # Exemple simple\n",
    "print(\n",
    "    \"Il y a %d élèves : %d filles, %d garçons\" % (\n",
    "    nombre_eleves, \n",
    "    nombre_filles,\n",
    "    nombre_garcons\n",
    "    ))\n",
    "\n",
    "print(\"Il y a %(n_eleves)d élèves : %(n_f)d filles et %(n_g)d garçons.\" % {\n",
    "    \"n_eleves\" : nombre_eleves,\n",
    "    \"n_f\": nombre_filles,\n",
    "    \"n_g\": nombre_garcons\n",
    "})"
   ]
  },
  {
   "cell_type": "code",
   "execution_count": 23,
   "metadata": {},
   "outputs": [],
   "source": [
    "import numpy as np\n",
    "\n",
    "liste_ages = np.random.randint(0, 60, 40)\n",
    "liste_genres = np.random.randint(0, 2, 40)\n",
    "\n",
    "liste_personnes = []\n",
    "for i in range(40):\n",
    "    if liste_genres[i] == 0:\n",
    "        liste_personnes.append({\n",
    "            \"nom\": \"Durand\",\n",
    "            \"prenom\": \"Georges\",\n",
    "            \"age\": liste_ages[i],\n",
    "            \"genre\": \"H\"\n",
    "        })\n",
    "    else:\n",
    "        liste_personnes.append({\n",
    "            \"nom\": \"Durand\",\n",
    "            \"prenom\": \"Georges\",\n",
    "            \"age\": liste_ages[i],\n",
    "            \"genre\": \"F\"\n",
    "        })\n",
    "        \n",
    "# print(liste_personnes)"
   ]
  },
  {
   "cell_type": "code",
   "execution_count": 37,
   "metadata": {},
   "outputs": [
    {
     "name": "stdout",
     "output_type": "stream",
     "text": [
      "27\n"
     ]
    }
   ],
   "source": [
    "# Avec comprehensive list\n",
    "liste_femmes = [i for i in liste_personnes if i[\"genre\"] == \"F\"]\n",
    "\n",
    "# Solution simple\n",
    "liste_femmes = []\n",
    "for i in range(40):\n",
    "    if liste_genres[i] == 1:\n",
    "        liste_femmes.append({\n",
    "            \"nom\": \"Durand\",\n",
    "            \"prenom\": \"Georges\",\n",
    "            \"age\": liste_ages[i],\n",
    "            \"genre\": \"F\"\n",
    "        })\n",
    "        \n",
    "# Troisième solution\n",
    "liste_femmes = []\n",
    "for personne in liste_personnes:\n",
    "    if personne[\"genre\"] == \"F\":\n",
    "        liste_femmes.append(personne)\n",
    "\n",
    "\n",
    "# Quatrième solution\n",
    "liste_femmes = []\n",
    "for i in range(len(liste_personnes)):\n",
    "    # Travailler avec liste_personnes[i]\n",
    "    if liste_personnes[i][\"genre\"] == \"F\":\n",
    "        liste_femmes.append(liste_personnes[i])\n",
    "\n",
    "print(len(liste_femmes))\n"
   ]
  },
  {
   "cell_type": "code",
   "execution_count": 36,
   "metadata": {},
   "outputs": [
    {
     "name": "stdout",
     "output_type": "stream",
     "text": [
      "    age genre     nom   prenom\n",
      "0    50     F  Durand  Georges\n",
      "1    24     F  Durand  Georges\n",
      "2    21     F  Durand  Georges\n",
      "3    56     F  Durand  Georges\n",
      "4    52     F  Durand  Georges\n",
      "8    20     F  Durand  Georges\n",
      "10   30     F  Durand  Georges\n",
      "11   21     F  Durand  Georges\n",
      "12   31     F  Durand  Georges\n",
      "14   26     F  Durand  Georges\n",
      "16   20     F  Durand  Georges\n",
      "18   53     F  Durand  Georges\n",
      "20   40     F  Durand  Georges\n",
      "22   49     F  Durand  Georges\n",
      "24   46     F  Durand  Georges\n"
     ]
    }
   ],
   "source": [
    "import pandas as pd\n",
    "\n",
    "femmes = pd.DataFrame(liste_femmes)\n",
    "#print(femmes)\n",
    "#print(femmes[\"age\"])\n",
    "#print(femmes[\"age\"] > 18)\n",
    "print(femmes[femmes[\"age\"] > 18])"
   ]
  },
  {
   "cell_type": "code",
   "execution_count": 40,
   "metadata": {},
   "outputs": [
    {
     "data": {
      "image/png": "[encoded data removed]",
      "text/plain": [
       "<Figure size 432x288 with 1 Axes>"
      ]
     },
     "metadata": {
      "needs_background": "light"
     },
     "output_type": "display_data"
    }
   ],
   "source": [
    "import matplotlib.pyplot as plt\n",
    "\n",
    "plt.scatter(\n",
    "    [i[\"age\"] for i in liste_personnes if i[\"genre\"] == \"F\"],\n",
    "    [1]*len([i[\"age\"] for i in liste_personnes if i[\"genre\"] == \"F\"]),\n",
    "    c=\"r\")\n",
    "plt.scatter(\n",
    "    [i[\"age\"] for i in liste_personnes if i[\"genre\"] == \"H\"],\n",
    "    [1]*len([i[\"age\"] for i in liste_personnes if i[\"genre\"] == \"H\"]),\n",
    "    c=\"g\")\n",
    "plt.show()"
   ]
  },
  {
   "cell_type": "code",
   "execution_count": 44,
   "metadata": {},
   "outputs": [
    {
     "name": "stdout",
     "output_type": "stream",
     "text": [
      "11\n",
      "11\n",
      "L'age moyen est de 25.98 ans\n",
      "L'age moyen d'un homme est de 30.46 ans\n",
      "L'age moyen d'une femme est de 23.81 ans\n",
      "0.66\n"
     ]
    }
   ],
   "source": [
    "# Nombre de femmes mineurs\n",
    "# Nombre d'hommes majeur\n",
    "# Age moyen\n",
    "# Age moyen par genre (H/F)\n",
    "liste_age_femmes_mineures = [i[\"age\"] for i in liste_personnes if i[\"genre\"] == \"F\" and i[\"age\"] < 18]\n",
    "print(len(liste_age_femmes_mineures))\n",
    "\n",
    "liste_age_hommes_majeurs = [i[\"age\"] for i in liste_personnes if i[\"genre\"] == \"H\" and i[\"age\"] > 18]\n",
    "print(len(liste_age_hommes_majeurs))\n",
    "\n",
    "liste_age = [i[\"age\"] for i in liste_personnes]\n",
    "moyenne_age = sum(liste_age) / len(liste_age)\n",
    "print(\"L'age moyen est de %.2f ans\"%moyenne_age)\n",
    "\n",
    "liste_age_h = [i[\"age\"] for i in liste_personnes if i[\"genre\"] == \"H\"]\n",
    "moyenne_age = sum(liste_age_h) / len(liste_age_h)\n",
    "print(\"L'age moyen d'un homme est de %.2f ans\"%moyenne_age)\n",
    "\n",
    "liste_age_f = [i[\"age\"] for i in liste_personnes if i[\"genre\"] == \"F\"]\n",
    "moyenne_age = sum(liste_age_f) / len(liste_age_f)\n",
    "print(\"L'age moyen d'une femme est de %.2f ans\"%moyenne_age)\n",
    "\n"
   ]
  },
  {
   "cell_type": "markdown",
   "metadata": {},
   "source": [
    "# Les fonctions"
   ]
  },
  {
   "cell_type": "code",
   "execution_count": 53,
   "metadata": {},
   "outputs": [],
   "source": [
    "def moyenne(param):\n",
    "    return sum(param)/len(param)\n",
    "\n"
   ]
  },
  {
   "cell_type": "code",
   "execution_count": 54,
   "metadata": {},
   "outputs": [
    {
     "name": "stdout",
     "output_type": "stream",
     "text": [
      "<class 'function'>\n"
     ]
    }
   ],
   "source": [
    "print(type(moyenne))"
   ]
  },
  {
   "cell_type": "code",
   "execution_count": 55,
   "metadata": {},
   "outputs": [],
   "source": [
    "resultat = moyenne([4,12])"
   ]
  },
  {
   "cell_type": "code",
   "execution_count": 57,
   "metadata": {},
   "outputs": [
    {
     "name": "stdout",
     "output_type": "stream",
     "text": [
      "8.0\n",
      "24.666666666666668\n"
     ]
    }
   ],
   "source": [
    "print(resultat)\n",
    "print(moyenne([21, 45, 8]))"
   ]
  },
  {
   "cell_type": "code",
   "execution_count": 58,
   "metadata": {},
   "outputs": [],
   "source": [
    "def dire_bonjour():\n",
    "    print(\"Bonjour tout le monde\")"
   ]
  },
  {
   "cell_type": "code",
   "execution_count": 59,
   "metadata": {},
   "outputs": [
    {
     "name": "stdout",
     "output_type": "stream",
     "text": [
      "Bonjour tout le monde\n"
     ]
    }
   ],
   "source": [
    "dire_bonjour()"
   ]
  },
  {
   "cell_type": "code",
   "execution_count": 75,
   "metadata": {},
   "outputs": [],
   "source": [
    "def saluer(personne):\n",
    "    assert type(personne) == str, \"Vous devez fournir une string\"\n",
    "    print(\"Bonjour %s\" % personne)\n",
    "\n",
    "def saluer_personne(personne):\n",
    "    print(\"Bonjour %s\" % personne[\"prenom\"])"
   ]
  },
  {
   "cell_type": "code",
   "execution_count": 78,
   "metadata": {},
   "outputs": [
    {
     "name": "stdout",
     "output_type": "stream",
     "text": [
      "Bonjour Mickael\n",
      "Bonjour Mickael\n"
     ]
    }
   ],
   "source": [
    "une_personne = {\"nom\": \"Bolnet\", \"prenom\": \"Mickael\"}\n",
    "saluer(une_personne[\"prenom\"])\n",
    "saluer_personne(une_personne)"
   ]
  },
  {
   "cell_type": "code",
   "execution_count": 79,
   "metadata": {},
   "outputs": [
    {
     "ename": "AssertionError",
     "evalue": "Vous devez fournir une string",
     "output_type": "error",
     "traceback": [
      "\u001b[1;31m---------------------------------------------------------------------------\u001b[0m",
      "\u001b[1;31mAssertionError\u001b[0m                            Traceback (most recent call last)",
      "\u001b[1;32m<ipython-input-79-717a883d18e8>\u001b[0m in \u001b[0;36m<module>\u001b[1;34m\u001b[0m\n\u001b[1;32m----> 1\u001b[1;33m \u001b[0msaluer\u001b[0m\u001b[1;33m(\u001b[0m\u001b[0mune_personne\u001b[0m\u001b[1;33m)\u001b[0m\u001b[1;33m\u001b[0m\u001b[1;33m\u001b[0m\u001b[0m\n\u001b[0m",
      "\u001b[1;32m<ipython-input-75-c250f1b5b6f2>\u001b[0m in \u001b[0;36msaluer\u001b[1;34m(personne)\u001b[0m\n\u001b[0;32m      1\u001b[0m \u001b[1;32mdef\u001b[0m \u001b[0msaluer\u001b[0m\u001b[1;33m(\u001b[0m\u001b[0mpersonne\u001b[0m\u001b[1;33m)\u001b[0m\u001b[1;33m:\u001b[0m\u001b[1;33m\u001b[0m\u001b[1;33m\u001b[0m\u001b[0m\n\u001b[1;32m----> 2\u001b[1;33m     \u001b[1;32massert\u001b[0m \u001b[0mtype\u001b[0m\u001b[1;33m(\u001b[0m\u001b[0mpersonne\u001b[0m\u001b[1;33m)\u001b[0m \u001b[1;33m==\u001b[0m \u001b[0mstr\u001b[0m\u001b[1;33m,\u001b[0m \u001b[1;34m\"Vous devez fournir une string\"\u001b[0m\u001b[1;33m\u001b[0m\u001b[1;33m\u001b[0m\u001b[0m\n\u001b[0m\u001b[0;32m      3\u001b[0m     \u001b[0mprint\u001b[0m\u001b[1;33m(\u001b[0m\u001b[1;34m\"Bonjour %s\"\u001b[0m \u001b[1;33m%\u001b[0m \u001b[0mpersonne\u001b[0m\u001b[1;33m)\u001b[0m\u001b[1;33m\u001b[0m\u001b[1;33m\u001b[0m\u001b[0m\n\u001b[0;32m      4\u001b[0m \u001b[1;33m\u001b[0m\u001b[0m\n\u001b[0;32m      5\u001b[0m \u001b[1;32mdef\u001b[0m \u001b[0msaluer_personne\u001b[0m\u001b[1;33m(\u001b[0m\u001b[0mpersonne\u001b[0m\u001b[1;33m)\u001b[0m\u001b[1;33m:\u001b[0m\u001b[1;33m\u001b[0m\u001b[1;33m\u001b[0m\u001b[0m\n",
      "\u001b[1;31mAssertionError\u001b[0m: Vous devez fournir une string"
     ]
    }
   ],
   "source": [
    "saluer(une_personne)"
   ]
  },
  {
   "cell_type": "code",
   "execution_count": 84,
   "metadata": {},
   "outputs": [
    {
     "name": "stdout",
     "output_type": "stream",
     "text": [
      "Hello Elodie Marchand\n",
      "Bonjour Marchand Elodie\n",
      "Hola Marchand Elodie\n"
     ]
    }
   ],
   "source": [
    "def salutations(nom, prenom, langue=\"en\"):\n",
    "    if langue == \"fr\":\n",
    "        print(\"Bonjour %s %s\"%(nom, prenom))\n",
    "    if langue == \"en\":\n",
    "        print(\"Hello %s %s\"%(prenom, nom))\n",
    "    if langue == \"es\":\n",
    "        print(\"Hola %s %s\"%(nom, prenom))\n",
    "    if langue == \"pt\":\n",
    "        print(\"Bom dia %s %s\"%(nom, prenom))\n",
    "    if langue == \"cr\":\n",
    "        print(\"Sa ou fè %s %s\"%(nom, prenom))\n",
    "\n",
    "salutations(\"Marchand\", \"Elodie\")\n",
    "salutations(\"Marchand\", \"Elodie\", \"fr\")\n",
    "salutations(\"Marchand\", \"Elodie\", langue=\"es\")"
   ]
  },
  {
   "cell_type": "code",
   "execution_count": 94,
   "metadata": {},
   "outputs": [
    {
     "name": "stdout",
     "output_type": "stream",
     "text": [
      "Hello Elodie Marchand\n",
      "Tu as 42 ans ?\n",
      "Bonjour Marchand Elodie\n",
      "Tu as 42 ans ?\n",
      "Hola Marchand Elodie\n",
      "Tu as 42 ans ?\n",
      "Hello Elodie Marchand\n",
      "Tu as 32 ans ?\n",
      "Bonjour Marchand Elodie\n",
      "Tu as 32 ans ?\n"
     ]
    }
   ],
   "source": [
    "def rencontre(nom, prenom, langue=\"en\", age=42):\n",
    "    \"\"\"\n",
    "    Dis bonjour dans la langue fournie\n",
    "    \"\"\"\n",
    "    if langue == \"fr\":\n",
    "        print(\"Bonjour %s %s\"%(nom, prenom))\n",
    "    if langue == \"en\":\n",
    "        print(\"Hello %s %s\"%(prenom, nom))\n",
    "    if langue == \"es\":\n",
    "        print(\"Hola %s %s\"%(nom, prenom))\n",
    "    if langue == \"pt\":\n",
    "        print(\"Bom dia %s %s\"%(nom, prenom))\n",
    "    if langue == \"cr\":\n",
    "        print(\"Sa ou fè %s %s\"%(nom, prenom))\n",
    "    print(\"Tu as %d ans ?\"%(age))\n",
    "\n",
    "rencontre(\"Marchand\", \"Elodie\")\n",
    "rencontre(\"Marchand\", \"Elodie\", \"fr\")\n",
    "rencontre(\"Marchand\", \"Elodie\", langue=\"es\")\n",
    "rencontre(\"Marchand\", \"Elodie\", age=32)\n",
    "rencontre(\"Marchand\", \"Elodie\", \"fr\", 32)\n"
   ]
  },
  {
   "cell_type": "code",
   "execution_count": 90,
   "metadata": {},
   "outputs": [],
   "source": [
    "def ma_fonction():\n",
    "    ma_variable = \"Romain\"\n",
    "    print(\"Hello \" + ma_variable)"
   ]
  },
  {
   "cell_type": "code",
   "execution_count": 92,
   "metadata": {},
   "outputs": [
    {
     "name": "stdout",
     "output_type": "stream",
     "text": [
      "Hello Romain\n",
      "Antoine\n"
     ]
    }
   ],
   "source": [
    "ma_variable = \"Antoine\"\n",
    "ma_fonction()\n",
    "print(ma_variable)"
   ]
  },
  {
   "cell_type": "code",
   "execution_count": 93,
   "metadata": {},
   "outputs": [
    {
     "name": "stdout",
     "output_type": "stream",
     "text": [
      "hola\n",
      "hello\n"
     ]
    }
   ],
   "source": [
    "# a = \"bonjour\"\n",
    "# def func():\n",
    "#     print(a)\n",
    "\n",
    "# func()\n",
    "\n",
    "# a = \"bonjour\"\n",
    "# def func(param):\n",
    "#     print(param)\n",
    "\n",
    "# func(a)\n",
    "\n",
    "# a = \"bonjour\"\n",
    "# def func(param):\n",
    "#     a = \"hello\"\n",
    "#     print(a)\n",
    "\n",
    "# func(\"hola\")\n",
    "\n",
    "\n",
    "a = \"bonjour\"\n",
    "\n",
    "def func(param):\n",
    "    a = param\n",
    "    print(a)\n",
    "\n",
    "a = \"hello\"\n",
    "func(\"hola\")\n",
    "print(a)\n"
   ]
  },
  {
   "cell_type": "code",
   "execution_count": 95,
   "metadata": {},
   "outputs": [
    {
     "name": "stdout",
     "output_type": "stream",
     "text": [
      "Help on function rencontre in module __main__:\n",
      "\n",
      "rencontre(nom, prenom, langue='en', age=42)\n",
      "    Dis bonjour dans la langue fournie\n",
      "\n"
     ]
    }
   ],
   "source": [
    "help(rencontre)"
   ]
  },
  {
   "cell_type": "code",
   "execution_count": 102,
   "metadata": {},
   "outputs": [],
   "source": [
    "with open(\"mon_fichier.txt\", \"a\", encoding='utf-8') as f:\n",
    "    f.write(\"Bonjour, c'est mon troisième fichier \\n\")\n"
   ]
  },
  {
   "cell_type": "code",
   "execution_count": 108,
   "metadata": {},
   "outputs": [
    {
     "name": "stdout",
     "output_type": "stream",
     "text": [
      "Bonjour, c'est mon deuxième fichierBonjour, c'est mon troisième fichierBonjour, c'est mon troisième fichier \n",
      "Bonjour, c'est mon troisième fichier \n",
      "\n"
     ]
    }
   ],
   "source": [
    "with open(\"mon_fichier.txt\", \"r\", encoding='utf-8') as f:\n",
    "    content = f.read()\n",
    "    print(content)\n"
   ]
  },
  {
   "cell_type": "code",
   "execution_count": 111,
   "metadata": {},
   "outputs": [],
   "source": [
    "with open(\"liste_personne.txt\", \"w\") as f:\n",
    "    for personne in liste_personnes:\n",
    "        f.write(\"%s %s %d \\n\"%(personne[\"nom\"],personne[\"prenom\"],personne[\"age\"]))"
   ]
  },
  {
   "cell_type": "code",
   "execution_count": 113,
   "metadata": {},
   "outputs": [],
   "source": [
    "import pandas as pd\n",
    "\n",
    "personnes = pd.DataFrame(liste_personnes)\n",
    "personnes.to_csv(\"liste.csv\")"
   ]
  },
  {
   "cell_type": "code",
   "execution_count": null,
   "metadata": {},
   "outputs": [],
   "source": []
  }
 ],
 "metadata": {
  "kernelspec": {
   "display_name": "Python 3",
   "language": "python",
   "name": "python3"
  },
  "language_info": {
   "codemirror_mode": {
    "name": "ipython",
    "version": 3
   },
   "file_extension": ".py",
   "mimetype": "text/x-python",
   "name": "python",
   "nbconvert_exporter": "python",
   "pygments_lexer": "ipython3",
   "version": "3.7.1"
  }
 },
 "nbformat": 4,
 "nbformat_minor": 2
}
